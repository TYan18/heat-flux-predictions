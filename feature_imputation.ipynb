{
 "cells": [
  {
   "cell_type": "code",
   "execution_count": 53,
   "id": "a13e17b9-efba-4f04-a292-18ed38ee0af2",
   "metadata": {},
   "outputs": [],
   "source": [
    "import numpy as np\n",
    "import pandas as pd"
   ]
  },
  {
   "cell_type": "markdown",
   "id": "9cf3c2af-d922-49a7-93b9-cfb26150e489",
   "metadata": {},
   "source": [
    "# Predicting Critical Heat Flux\n",
    "\n",
    "This is a Kaggle competition: [Feature Imputation with a Heat Flux Dataset](https://www.kaggle.com/competitions/playground-series-s3e15/overview).\n",
    "\n",
    "\n",
    "## Objective\n",
    "\n",
    "The objective is to predict missing values in this synthetic dataset, using previously established data and scientific principles, as well as predictive machine learning.\n",
    "\n",
    "Based on the following data:\n",
    "\n",
    "Zhao, Xingang (2020), “Data for: On the prediction of critical heat flux using a physics-informed machine learning-aided framework”, Mendeley Data, V1, doi: 10.17632/5p5h37tyv7.1"
   ]
  },
  {
   "cell_type": "code",
   "execution_count": 54,
   "id": "24701515-44a8-4366-8da3-9de7e0278ecd",
   "metadata": {},
   "outputs": [
    {
     "data": {
      "text/html": [
       "<div>\n",
       "<style scoped>\n",
       "    .dataframe tbody tr th:only-of-type {\n",
       "        vertical-align: middle;\n",
       "    }\n",
       "\n",
       "    .dataframe tbody tr th {\n",
       "        vertical-align: top;\n",
       "    }\n",
       "\n",
       "    .dataframe thead th {\n",
       "        text-align: right;\n",
       "    }\n",
       "</style>\n",
       "<table border=\"1\" class=\"dataframe\">\n",
       "  <thead>\n",
       "    <tr style=\"text-align: right;\">\n",
       "      <th></th>\n",
       "      <th>author</th>\n",
       "      <th>geometry</th>\n",
       "      <th>pressure [MPa]</th>\n",
       "      <th>mass_flux [kg/m2-s]</th>\n",
       "      <th>x_e_out [-]</th>\n",
       "      <th>D_e [mm]</th>\n",
       "      <th>D_h [mm]</th>\n",
       "      <th>length [mm]</th>\n",
       "      <th>chf_exp [MW/m2]</th>\n",
       "    </tr>\n",
       "    <tr>\n",
       "      <th>id</th>\n",
       "      <th></th>\n",
       "      <th></th>\n",
       "      <th></th>\n",
       "      <th></th>\n",
       "      <th></th>\n",
       "      <th></th>\n",
       "      <th></th>\n",
       "      <th></th>\n",
       "      <th></th>\n",
       "    </tr>\n",
       "  </thead>\n",
       "  <tbody>\n",
       "    <tr>\n",
       "      <th>0</th>\n",
       "      <td>Thompson</td>\n",
       "      <td>tube</td>\n",
       "      <td>7.00</td>\n",
       "      <td>3770.0</td>\n",
       "      <td>0.1754</td>\n",
       "      <td>NaN</td>\n",
       "      <td>10.8</td>\n",
       "      <td>432.0</td>\n",
       "      <td>3.6</td>\n",
       "    </tr>\n",
       "    <tr>\n",
       "      <th>1</th>\n",
       "      <td>Thompson</td>\n",
       "      <td>tube</td>\n",
       "      <td>NaN</td>\n",
       "      <td>6049.0</td>\n",
       "      <td>-0.0416</td>\n",
       "      <td>10.3</td>\n",
       "      <td>10.3</td>\n",
       "      <td>762.0</td>\n",
       "      <td>6.2</td>\n",
       "    </tr>\n",
       "    <tr>\n",
       "      <th>2</th>\n",
       "      <td>Thompson</td>\n",
       "      <td>NaN</td>\n",
       "      <td>13.79</td>\n",
       "      <td>2034.0</td>\n",
       "      <td>0.0335</td>\n",
       "      <td>7.7</td>\n",
       "      <td>7.7</td>\n",
       "      <td>457.0</td>\n",
       "      <td>2.5</td>\n",
       "    </tr>\n",
       "    <tr>\n",
       "      <th>3</th>\n",
       "      <td>Beus</td>\n",
       "      <td>annulus</td>\n",
       "      <td>13.79</td>\n",
       "      <td>3679.0</td>\n",
       "      <td>-0.0279</td>\n",
       "      <td>5.6</td>\n",
       "      <td>15.2</td>\n",
       "      <td>2134.0</td>\n",
       "      <td>3.0</td>\n",
       "    </tr>\n",
       "    <tr>\n",
       "      <th>4</th>\n",
       "      <td>NaN</td>\n",
       "      <td>tube</td>\n",
       "      <td>13.79</td>\n",
       "      <td>686.0</td>\n",
       "      <td>NaN</td>\n",
       "      <td>11.1</td>\n",
       "      <td>11.1</td>\n",
       "      <td>457.0</td>\n",
       "      <td>2.8</td>\n",
       "    </tr>\n",
       "    <tr>\n",
       "      <th>...</th>\n",
       "      <td>...</td>\n",
       "      <td>...</td>\n",
       "      <td>...</td>\n",
       "      <td>...</td>\n",
       "      <td>...</td>\n",
       "      <td>...</td>\n",
       "      <td>...</td>\n",
       "      <td>...</td>\n",
       "      <td>...</td>\n",
       "    </tr>\n",
       "    <tr>\n",
       "      <th>31639</th>\n",
       "      <td>Thompson</td>\n",
       "      <td>NaN</td>\n",
       "      <td>NaN</td>\n",
       "      <td>1736.0</td>\n",
       "      <td>0.0886</td>\n",
       "      <td>NaN</td>\n",
       "      <td>7.8</td>\n",
       "      <td>591.0</td>\n",
       "      <td>2.3</td>\n",
       "    </tr>\n",
       "    <tr>\n",
       "      <th>31640</th>\n",
       "      <td>NaN</td>\n",
       "      <td>NaN</td>\n",
       "      <td>13.79</td>\n",
       "      <td>NaN</td>\n",
       "      <td>NaN</td>\n",
       "      <td>4.7</td>\n",
       "      <td>4.7</td>\n",
       "      <td>NaN</td>\n",
       "      <td>3.9</td>\n",
       "    </tr>\n",
       "    <tr>\n",
       "      <th>31641</th>\n",
       "      <td>Thompson</td>\n",
       "      <td>NaN</td>\n",
       "      <td>18.27</td>\n",
       "      <td>658.0</td>\n",
       "      <td>-0.1224</td>\n",
       "      <td>3.0</td>\n",
       "      <td>3.0</td>\n",
       "      <td>150.0</td>\n",
       "      <td>2.3</td>\n",
       "    </tr>\n",
       "    <tr>\n",
       "      <th>31642</th>\n",
       "      <td>Thompson</td>\n",
       "      <td>tube</td>\n",
       "      <td>6.89</td>\n",
       "      <td>3825.0</td>\n",
       "      <td>NaN</td>\n",
       "      <td>23.6</td>\n",
       "      <td>23.6</td>\n",
       "      <td>1972.0</td>\n",
       "      <td>3.7</td>\n",
       "    </tr>\n",
       "    <tr>\n",
       "      <th>31643</th>\n",
       "      <td>NaN</td>\n",
       "      <td>tube</td>\n",
       "      <td>6.89</td>\n",
       "      <td>7568.0</td>\n",
       "      <td>0.0603</td>\n",
       "      <td>12.8</td>\n",
       "      <td>12.8</td>\n",
       "      <td>1930.0</td>\n",
       "      <td>3.3</td>\n",
       "    </tr>\n",
       "  </tbody>\n",
       "</table>\n",
       "<p>31644 rows × 9 columns</p>\n",
       "</div>"
      ],
      "text/plain": [
       "         author geometry  pressure [MPa]  mass_flux [kg/m2-s]  x_e_out [-]  \\\n",
       "id                                                                           \n",
       "0      Thompson     tube            7.00               3770.0       0.1754   \n",
       "1      Thompson     tube             NaN               6049.0      -0.0416   \n",
       "2      Thompson      NaN           13.79               2034.0       0.0335   \n",
       "3          Beus  annulus           13.79               3679.0      -0.0279   \n",
       "4           NaN     tube           13.79                686.0          NaN   \n",
       "...         ...      ...             ...                  ...          ...   \n",
       "31639  Thompson      NaN             NaN               1736.0       0.0886   \n",
       "31640       NaN      NaN           13.79                  NaN          NaN   \n",
       "31641  Thompson      NaN           18.27                658.0      -0.1224   \n",
       "31642  Thompson     tube            6.89               3825.0          NaN   \n",
       "31643       NaN     tube            6.89               7568.0       0.0603   \n",
       "\n",
       "       D_e [mm]  D_h [mm]  length [mm]  chf_exp [MW/m2]  \n",
       "id                                                       \n",
       "0           NaN      10.8        432.0              3.6  \n",
       "1          10.3      10.3        762.0              6.2  \n",
       "2           7.7       7.7        457.0              2.5  \n",
       "3           5.6      15.2       2134.0              3.0  \n",
       "4          11.1      11.1        457.0              2.8  \n",
       "...         ...       ...          ...              ...  \n",
       "31639       NaN       7.8        591.0              2.3  \n",
       "31640       4.7       4.7          NaN              3.9  \n",
       "31641       3.0       3.0        150.0              2.3  \n",
       "31642      23.6      23.6       1972.0              3.7  \n",
       "31643      12.8      12.8       1930.0              3.3  \n",
       "\n",
       "[31644 rows x 9 columns]"
      ]
     },
     "execution_count": 54,
     "metadata": {},
     "output_type": "execute_result"
    }
   ],
   "source": [
    "# Convert the CSV file to a Pandas DataFrame\n",
    "\n",
    "data = pd.read_csv('synthesized_data.csv', index_col=0)\n",
    "data"
   ]
  },
  {
   "cell_type": "code",
   "execution_count": 55,
   "id": "756b8b7e-7ab4-44c5-bc7b-38a272505bcf",
   "metadata": {
    "tags": []
   },
   "outputs": [
    {
     "data": {
      "text/plain": [
       "author                  object\n",
       "geometry                object\n",
       "pressure [MPa]         float64\n",
       "mass_flux [kg/m2-s]    float64\n",
       "x_e_out [-]            float64\n",
       "D_e [mm]               float64\n",
       "D_h [mm]               float64\n",
       "length [mm]            float64\n",
       "chf_exp [MW/m2]        float64\n",
       "dtype: object"
      ]
     },
     "execution_count": 55,
     "metadata": {},
     "output_type": "execute_result"
    }
   ],
   "source": [
    "# View the types of data in each column\n",
    "\n",
    "data.dtypes"
   ]
  },
  {
   "cell_type": "code",
   "execution_count": 56,
   "id": "8082522d-f375-48ee-b31b-770c0785e066",
   "metadata": {},
   "outputs": [],
   "source": [
    "# Rename the columns for simplicity\n",
    "\n",
    "columns_map = {'pressure [MPa]': 'pressure',\n",
    "               'mass_flux [kg/m2-s]': 'mass_flux',\n",
    "               'x_e_out [-]': 'x_e_out',\n",
    "               'D_e [mm]': 'D_e',\n",
    "               'D_h [mm]': 'D_h',\n",
    "               'length [mm]': 'length',\n",
    "               'chf_exp [MW/m2]': 'chf_exp'}\n",
    "\n",
    "data.rename(columns=columns_map, inplace=True)"
   ]
  },
  {
   "cell_type": "code",
   "execution_count": 57,
   "id": "e420bddb-7f62-44ba-934c-ce9a3fea7a12",
   "metadata": {},
   "outputs": [
    {
     "data": {
      "text/plain": [
       "author        5024\n",
       "geometry      5500\n",
       "pressure      4452\n",
       "mass_flux     4791\n",
       "x_e_out      10415\n",
       "D_e           5488\n",
       "D_h           4589\n",
       "length        4759\n",
       "chf_exp          0\n",
       "dtype: int64"
      ]
     },
     "execution_count": 57,
     "metadata": {},
     "output_type": "execute_result"
    }
   ],
   "source": [
    "# Count the NaN values in each column\n",
    "\n",
    "data.isna().sum()"
   ]
  },
  {
   "cell_type": "code",
   "execution_count": 58,
   "id": "8c77ad99-9710-46f5-8eb6-b07faca78d98",
   "metadata": {},
   "outputs": [],
   "source": [
    "# Locate the indices for where the feature of interest has a missing value\n",
    "\n",
    "x_e_out_na = data.loc[np.where(data['x_e_out'] != data['x_e_out'])]"
   ]
  },
  {
   "cell_type": "markdown",
   "id": "525f11e9-d719-4012-b5ba-566bbf945f3c",
   "metadata": {},
   "source": [
    "### Feature imputation"
   ]
  },
  {
   "cell_type": "markdown",
   "id": "d771fbac-fed0-4917-bfd9-f2960ef81b9b",
   "metadata": {},
   "source": [
    "There are 9 features overall, including one feature of particular interest,`x_e_out [-]`\n",
    "\n",
    "Most rows of data contain at least one missing value, and many contain up to 4 missing values. \n",
    "\n",
    "We will take two approaches to feature imputation:\n",
    "\n",
    "### 1. Inferrence through regression\n",
    "\n",
    "Using trends found from the original dataset (done in the other notebook in this repo), we can fill in some of NaN values in `D_e` and `D_h` (if the other is present) with inferred values, based on the least squares linear regression equation observed between them."
   ]
  },
  {
   "cell_type": "code",
   "execution_count": 59,
   "id": "4fe7826a-362b-4561-a113-4cbb6a3d4535",
   "metadata": {},
   "outputs": [
    {
     "data": {
      "text/html": [
       "<div>\n",
       "<style scoped>\n",
       "    .dataframe tbody tr th:only-of-type {\n",
       "        vertical-align: middle;\n",
       "    }\n",
       "\n",
       "    .dataframe tbody tr th {\n",
       "        vertical-align: top;\n",
       "    }\n",
       "\n",
       "    .dataframe thead th {\n",
       "        text-align: right;\n",
       "    }\n",
       "</style>\n",
       "<table border=\"1\" class=\"dataframe\">\n",
       "  <thead>\n",
       "    <tr style=\"text-align: right;\">\n",
       "      <th></th>\n",
       "      <th>D_e</th>\n",
       "      <th>D_h</th>\n",
       "    </tr>\n",
       "    <tr>\n",
       "      <th>id</th>\n",
       "      <th></th>\n",
       "      <th></th>\n",
       "    </tr>\n",
       "  </thead>\n",
       "  <tbody>\n",
       "    <tr>\n",
       "      <th>0</th>\n",
       "      <td>NaN</td>\n",
       "      <td>10.8</td>\n",
       "    </tr>\n",
       "    <tr>\n",
       "      <th>1</th>\n",
       "      <td>10.3</td>\n",
       "      <td>10.3</td>\n",
       "    </tr>\n",
       "    <tr>\n",
       "      <th>2</th>\n",
       "      <td>7.7</td>\n",
       "      <td>7.7</td>\n",
       "    </tr>\n",
       "    <tr>\n",
       "      <th>3</th>\n",
       "      <td>5.6</td>\n",
       "      <td>15.2</td>\n",
       "    </tr>\n",
       "    <tr>\n",
       "      <th>4</th>\n",
       "      <td>11.1</td>\n",
       "      <td>11.1</td>\n",
       "    </tr>\n",
       "    <tr>\n",
       "      <th>...</th>\n",
       "      <td>...</td>\n",
       "      <td>...</td>\n",
       "    </tr>\n",
       "    <tr>\n",
       "      <th>31639</th>\n",
       "      <td>NaN</td>\n",
       "      <td>7.8</td>\n",
       "    </tr>\n",
       "    <tr>\n",
       "      <th>31640</th>\n",
       "      <td>4.7</td>\n",
       "      <td>4.7</td>\n",
       "    </tr>\n",
       "    <tr>\n",
       "      <th>31641</th>\n",
       "      <td>3.0</td>\n",
       "      <td>3.0</td>\n",
       "    </tr>\n",
       "    <tr>\n",
       "      <th>31642</th>\n",
       "      <td>23.6</td>\n",
       "      <td>23.6</td>\n",
       "    </tr>\n",
       "    <tr>\n",
       "      <th>31643</th>\n",
       "      <td>12.8</td>\n",
       "      <td>12.8</td>\n",
       "    </tr>\n",
       "  </tbody>\n",
       "</table>\n",
       "<p>30829 rows × 2 columns</p>\n",
       "</div>"
      ],
      "text/plain": [
       "        D_e   D_h\n",
       "id               \n",
       "0       NaN  10.8\n",
       "1      10.3  10.3\n",
       "2       7.7   7.7\n",
       "3       5.6  15.2\n",
       "4      11.1  11.1\n",
       "...     ...   ...\n",
       "31639   NaN   7.8\n",
       "31640   4.7   4.7\n",
       "31641   3.0   3.0\n",
       "31642  23.6  23.6\n",
       "31643  12.8  12.8\n",
       "\n",
       "[30829 rows x 2 columns]"
      ]
     },
     "execution_count": 59,
     "metadata": {},
     "output_type": "execute_result"
    }
   ],
   "source": [
    "# Find how many rows contain at least one of these values\n",
    "\n",
    "diameters = data[['D_e', 'D_h']]\n",
    "diameters.dropna(how='all')"
   ]
  },
  {
   "cell_type": "markdown",
   "id": "894f81cd-402c-4166-b3a0-54cfcbab72e5",
   "metadata": {},
   "source": [
    "Out of 31644 rows, 30829 contain either or both values. That's a good sign."
   ]
  },
  {
   "cell_type": "markdown",
   "id": "50a555b7-d55f-4d56-abf9-bd0fa0e912c8",
   "metadata": {},
   "source": [
    "Now we can use the equation of the least squares regression line previously attained to fill in some NaN values:\n",
    "\n",
    "`D_h = (m)*D_e + (b)`  \n",
    "`m = 1.6505188039072645`  \n",
    "`b = 0.6244360295422665`"
   ]
  },
  {
   "cell_type": "code",
   "execution_count": 60,
   "id": "c12e34a1-df43-4943-95a2-f17490524fbd",
   "metadata": {},
   "outputs": [],
   "source": [
    "# Set the values for the LSR line:\n",
    "\n",
    "m = 1.125005293061929\n",
    "b = 2.4657099242996416"
   ]
  },
  {
   "cell_type": "code",
   "execution_count": 61,
   "id": "bf1617c5-885b-4d30-a098-dc340c935263",
   "metadata": {},
   "outputs": [
    {
     "name": "stderr",
     "output_type": "stream",
     "text": [
      "/home/titania/anaconda3/lib/python3.7/site-packages/pandas/core/generic.py:6392: SettingWithCopyWarning: \n",
      "A value is trying to be set on a copy of a slice from a DataFrame\n",
      "\n",
      "See the caveats in the documentation: https://pandas.pydata.org/pandas-docs/stable/user_guide/indexing.html#returning-a-view-versus-a-copy\n",
      "  return self._update_inplace(result)\n"
     ]
    }
   ],
   "source": [
    "# Use the LSR line equation to estimate `D_h` from `D_e`\n",
    "\n",
    "diameters['D_h'].fillna(value=(m*diameters['D_e']+b), inplace=True)"
   ]
  },
  {
   "cell_type": "code",
   "execution_count": 62,
   "id": "d7e702bf-20ab-4361-98d8-8edf5df182d2",
   "metadata": {},
   "outputs": [],
   "source": [
    "# Reverse the LSR line equation to estimate `D_e` from `D_h`\n",
    "\n",
    "diameters['D_e'].fillna(value=((diameters['D_h']-b)/m), inplace=True)"
   ]
  },
  {
   "cell_type": "code",
   "execution_count": 63,
   "id": "195804a0-032f-415e-b777-ed46be21f7b2",
   "metadata": {},
   "outputs": [
    {
     "data": {
      "text/plain": [
       "D_e    815\n",
       "D_h    815\n",
       "dtype: int64"
      ]
     },
     "execution_count": 63,
     "metadata": {},
     "output_type": "execute_result"
    }
   ],
   "source": [
    "# Count how many NaN values remain\n",
    "\n",
    "diameters.isnull().sum()"
   ]
  },
  {
   "cell_type": "code",
   "execution_count": 64,
   "id": "f73dd205-7009-49e7-a43e-edefb256e6c5",
   "metadata": {},
   "outputs": [],
   "source": [
    "# Place these imputed values into the dataset\n",
    "\n",
    "data[['D_e', 'D_h']] = diameters"
   ]
  },
  {
   "cell_type": "markdown",
   "id": "90f0ab05-9a60-447a-8d19-c7102381dca1",
   "metadata": {},
   "source": [
    "Many of the NaN values of `D_e` and `D_e` have been imputed, if one or the other was present. However, there are still many rows (815) without either value.\n",
    "\n",
    "In addition, none of the other features seemed to have directly strong correlations (either through regression or categorical association) within the dataset, which makes unknown feature imputation using other known features tricky. One way around this is to use machine learning methods, which leads into the second method for feature imputation:\n",
    "\n",
    "### 2. K-nearest neighbours\n",
    "\n",
    "The K-nearest neighbours approach is a supervised machine learning method that operates on the idea that similar samples also have feature similarity that can be mathematically computed as distance or proximity parameters. This method can also be used to impute missing features."
   ]
  },
  {
   "cell_type": "code",
   "execution_count": 65,
   "id": "4c9edc56-0bd3-4825-a1c3-083d3b87fb04",
   "metadata": {},
   "outputs": [],
   "source": [
    "from sklearn.impute import KNNImputer"
   ]
  },
  {
   "cell_type": "code",
   "execution_count": 66,
   "id": "ab81d8b2-0337-4fed-803e-15d76569ba5e",
   "metadata": {},
   "outputs": [],
   "source": [
    "imputer = KNNImputer()"
   ]
  },
  {
   "cell_type": "markdown",
   "id": "421e53c4-d9d7-434f-9422-91f1f41fee7c",
   "metadata": {},
   "source": [
    "As previously found, this dataset contains both numerical and categorical data. The KNN Imputer can not directly predict NaN values for categorical features, as it requires all features to be in `float` or `int` types.\n",
    "\n",
    "Since all features in the dataset describe physical properties of materials except for `author`, this feature will be removed, as there is unlikely to be any meaningful correlation between this feature and the feature of interest.\n",
    "\n",
    "Simply using encoding methods for categorical values (i.e. label encoder, one hot encoder, or dummy variables) would not work here, as the NaN values would not be preserved. Any of these methods creates a new category for NaN values, which would no longer be recognized as such by the KNN Imputer. Because of this, we need to find a way to encode these variables while preserving the NaN values. In this case, we will use one hot encoding, as the categorical features are not ordinal.\n",
    "\n",
    "Since the there are no categorical variable encoders with built-in options to preserve NaN values, we will take a manual approach:\n",
    "\n",
    "1. Specify a temporary category for missing values (NaNs)\n",
    "2. Apply categorical variable transformation to categorical features\n",
    "3. View the resulting sub-DataFrame to determine corresponding column names from OHE\n",
    "4. For each row, replace all values with NaN if the missing column contains 1\n",
    "5. Delete the missing column and merge the sub-DataFrame back into the main DataFrame"
   ]
  },
  {
   "cell_type": "code",
   "execution_count": 67,
   "id": "1be978cb-3fc1-42b8-a69a-de5cab063062",
   "metadata": {},
   "outputs": [
    {
     "data": {
      "text/plain": [
       "tube       21145\n",
       "annulus     4381\n",
       "plate        618\n",
       "Name: geometry, dtype: int64"
      ]
     },
     "execution_count": 67,
     "metadata": {},
     "output_type": "execute_result"
    }
   ],
   "source": [
    "# Count the distinct categories in the `geometry` column\n",
    "\n",
    "data['geometry'].value_counts()"
   ]
  },
  {
   "cell_type": "code",
   "execution_count": 68,
   "id": "2d940c44-7ee0-4d4e-994a-6aaa1e32b0a6",
   "metadata": {},
   "outputs": [],
   "source": [
    "# Create dummy variables, and add a new column for NaN values\n",
    "\n",
    "geometry = pd.get_dummies(data['geometry'], dummy_na=True)"
   ]
  },
  {
   "cell_type": "code",
   "execution_count": 69,
   "id": "7f124465-ff38-4ffc-9cf5-9c22ef001989",
   "metadata": {},
   "outputs": [
    {
     "data": {
      "text/html": [
       "<div>\n",
       "<style scoped>\n",
       "    .dataframe tbody tr th:only-of-type {\n",
       "        vertical-align: middle;\n",
       "    }\n",
       "\n",
       "    .dataframe tbody tr th {\n",
       "        vertical-align: top;\n",
       "    }\n",
       "\n",
       "    .dataframe thead th {\n",
       "        text-align: right;\n",
       "    }\n",
       "</style>\n",
       "<table border=\"1\" class=\"dataframe\">\n",
       "  <thead>\n",
       "    <tr style=\"text-align: right;\">\n",
       "      <th></th>\n",
       "      <th>annulus</th>\n",
       "      <th>plate</th>\n",
       "      <th>tube</th>\n",
       "      <th>NaN</th>\n",
       "    </tr>\n",
       "    <tr>\n",
       "      <th>id</th>\n",
       "      <th></th>\n",
       "      <th></th>\n",
       "      <th></th>\n",
       "      <th></th>\n",
       "    </tr>\n",
       "  </thead>\n",
       "  <tbody>\n",
       "    <tr>\n",
       "      <th>0</th>\n",
       "      <td>0</td>\n",
       "      <td>0</td>\n",
       "      <td>1</td>\n",
       "      <td>0</td>\n",
       "    </tr>\n",
       "    <tr>\n",
       "      <th>1</th>\n",
       "      <td>0</td>\n",
       "      <td>0</td>\n",
       "      <td>1</td>\n",
       "      <td>0</td>\n",
       "    </tr>\n",
       "    <tr>\n",
       "      <th>2</th>\n",
       "      <td>0</td>\n",
       "      <td>0</td>\n",
       "      <td>0</td>\n",
       "      <td>1</td>\n",
       "    </tr>\n",
       "    <tr>\n",
       "      <th>3</th>\n",
       "      <td>1</td>\n",
       "      <td>0</td>\n",
       "      <td>0</td>\n",
       "      <td>0</td>\n",
       "    </tr>\n",
       "    <tr>\n",
       "      <th>4</th>\n",
       "      <td>0</td>\n",
       "      <td>0</td>\n",
       "      <td>1</td>\n",
       "      <td>0</td>\n",
       "    </tr>\n",
       "  </tbody>\n",
       "</table>\n",
       "</div>"
      ],
      "text/plain": [
       "    annulus  plate  tube  NaN\n",
       "id                           \n",
       "0         0      0     1    0\n",
       "1         0      0     1    0\n",
       "2         0      0     0    1\n",
       "3         1      0     0    0\n",
       "4         0      0     1    0"
      ]
     },
     "execution_count": 69,
     "metadata": {},
     "output_type": "execute_result"
    }
   ],
   "source": [
    "geometry.head()"
   ]
  },
  {
   "cell_type": "code",
   "execution_count": 70,
   "id": "042d7b44-e732-431f-a111-1756ceeb3c2e",
   "metadata": {},
   "outputs": [],
   "source": [
    "# Separate the temporary DataFrame into two DataFrames\n",
    "# One will have rows where the NaN column has a 0 (not missing this feature value)\n",
    "# The other will have rows where the NaN column has a 1 (missing this feature value)\n",
    "\n",
    "geometry_notna = geometry.loc[np.where(geometry[np.nan] == 0)]\n",
    "geometry_na = geometry.loc[np.where(geometry[np.nan])]"
   ]
  },
  {
   "cell_type": "code",
   "execution_count": 71,
   "id": "c08c9940-c2bf-4213-b171-6f0ef94aa7f7",
   "metadata": {},
   "outputs": [],
   "source": [
    "# Replace all of the known category columns with NaN in the DataFrame with this missing feature value\n",
    "\n",
    "geometry_na.replace(to_replace={0:np.nan}, inplace=True)"
   ]
  },
  {
   "cell_type": "code",
   "execution_count": 72,
   "id": "a8a839d1-4dc2-414e-8d39-e8801c95ac52",
   "metadata": {},
   "outputs": [],
   "source": [
    "# Concatenate the two DataFrames back into one DataFrame, and drop the NaN column\n",
    "\n",
    "geometry = pd.concat([geometry_notna, geometry_na]).sort_index()\n",
    "geometry.drop(np.nan, axis=1, inplace=True)"
   ]
  },
  {
   "cell_type": "code",
   "execution_count": 73,
   "id": "997dfcb8-d1c2-4bfc-ac1a-e8aa86090b7b",
   "metadata": {},
   "outputs": [
    {
     "data": {
      "text/html": [
       "<div>\n",
       "<style scoped>\n",
       "    .dataframe tbody tr th:only-of-type {\n",
       "        vertical-align: middle;\n",
       "    }\n",
       "\n",
       "    .dataframe tbody tr th {\n",
       "        vertical-align: top;\n",
       "    }\n",
       "\n",
       "    .dataframe thead th {\n",
       "        text-align: right;\n",
       "    }\n",
       "</style>\n",
       "<table border=\"1\" class=\"dataframe\">\n",
       "  <thead>\n",
       "    <tr style=\"text-align: right;\">\n",
       "      <th></th>\n",
       "      <th>annulus</th>\n",
       "      <th>plate</th>\n",
       "      <th>tube</th>\n",
       "    </tr>\n",
       "    <tr>\n",
       "      <th>id</th>\n",
       "      <th></th>\n",
       "      <th></th>\n",
       "      <th></th>\n",
       "    </tr>\n",
       "  </thead>\n",
       "  <tbody>\n",
       "    <tr>\n",
       "      <th>0</th>\n",
       "      <td>0.0</td>\n",
       "      <td>0.0</td>\n",
       "      <td>1.0</td>\n",
       "    </tr>\n",
       "    <tr>\n",
       "      <th>1</th>\n",
       "      <td>0.0</td>\n",
       "      <td>0.0</td>\n",
       "      <td>1.0</td>\n",
       "    </tr>\n",
       "    <tr>\n",
       "      <th>2</th>\n",
       "      <td>NaN</td>\n",
       "      <td>NaN</td>\n",
       "      <td>NaN</td>\n",
       "    </tr>\n",
       "    <tr>\n",
       "      <th>3</th>\n",
       "      <td>1.0</td>\n",
       "      <td>0.0</td>\n",
       "      <td>0.0</td>\n",
       "    </tr>\n",
       "    <tr>\n",
       "      <th>4</th>\n",
       "      <td>0.0</td>\n",
       "      <td>0.0</td>\n",
       "      <td>1.0</td>\n",
       "    </tr>\n",
       "  </tbody>\n",
       "</table>\n",
       "</div>"
      ],
      "text/plain": [
       "    annulus  plate  tube\n",
       "id                      \n",
       "0       0.0    0.0   1.0\n",
       "1       0.0    0.0   1.0\n",
       "2       NaN    NaN   NaN\n",
       "3       1.0    0.0   0.0\n",
       "4       0.0    0.0   1.0"
      ]
     },
     "execution_count": 73,
     "metadata": {},
     "output_type": "execute_result"
    }
   ],
   "source": [
    "geometry.head()"
   ]
  },
  {
   "cell_type": "code",
   "execution_count": 74,
   "id": "644ab127-582e-43f0-8904-ae5c0e0a1ade",
   "metadata": {},
   "outputs": [],
   "source": [
    "# Concatenate this encoded DataFrame back with the original DataFrame\n",
    "# Drop the categorical `author` and `geometry` columns\n",
    "\n",
    "data = pd.concat([data, geometry], axis=1)\n",
    "data.drop(['author', 'geometry'], axis=1, inplace=True)"
   ]
  },
  {
   "cell_type": "code",
   "execution_count": 75,
   "id": "b4b62bdd-e48f-45f4-aed0-6006b03102d2",
   "metadata": {},
   "outputs": [
    {
     "data": {
      "text/plain": [
       "KNNImputer()"
      ]
     },
     "execution_count": 75,
     "metadata": {},
     "output_type": "execute_result"
    }
   ],
   "source": [
    "# Fit the pre-processed dataset with the KNN imputer\n",
    "\n",
    "imputer.fit(data)"
   ]
  },
  {
   "cell_type": "code",
   "execution_count": 76,
   "id": "c6403085-44d2-4307-8e4b-ff6f13063836",
   "metadata": {},
   "outputs": [],
   "source": [
    "# Transform the pre-processed dataset with the pre-fitted KNN imputer\n",
    "\n",
    "data_array = imputer.transform(data)"
   ]
  },
  {
   "cell_type": "code",
   "execution_count": 77,
   "id": "db7ce0cf-1f22-4df4-be02-0d5121981d16",
   "metadata": {},
   "outputs": [],
   "source": [
    "# Convert the imputed array back into a DataFrame\n",
    "\n",
    "data_imputed = pd.DataFrame(data_array, columns=imputer.feature_names_in_)"
   ]
  },
  {
   "cell_type": "code",
   "execution_count": 78,
   "id": "b559ae68-92b4-429a-9cee-de23c6d8ff5f",
   "metadata": {},
   "outputs": [
    {
     "data": {
      "text/plain": [
       "pressure     0\n",
       "mass_flux    0\n",
       "x_e_out      0\n",
       "D_e          0\n",
       "D_h          0\n",
       "length       0\n",
       "chf_exp      0\n",
       "annulus      0\n",
       "plate        0\n",
       "tube         0\n",
       "dtype: int64"
      ]
     },
     "execution_count": 78,
     "metadata": {},
     "output_type": "execute_result"
    }
   ],
   "source": [
    "# Check for any remaining NaN values\n",
    "\n",
    "data_imputed.isnull().sum()"
   ]
  },
  {
   "cell_type": "code",
   "execution_count": 79,
   "id": "2185d50a-f174-47ae-b5bc-f82275cf96d1",
   "metadata": {},
   "outputs": [],
   "source": [
    "# Isolate the feature of interest as a Series\n",
    "\n",
    "x_e_out = data_imputed['x_e_out']\n",
    "x_e_out.name = 'x_e_out [-]'"
   ]
  },
  {
   "cell_type": "code",
   "execution_count": 80,
   "id": "438fff74-25d9-4ca4-96c8-436574e7c968",
   "metadata": {},
   "outputs": [],
   "source": [
    "# Select only the rows with the original missing values in the feature of interest, and convert to a CSV file\n",
    "\n",
    "x_e_out.iloc[x_e_out_na.index].to_csv(path_or_buf='submission.csv', index_label='id')"
   ]
  },
  {
   "cell_type": "markdown",
   "id": "3eb03b86-8e4f-43cc-88e1-2714a7a43e15",
   "metadata": {},
   "source": [
    "And we're done! All missing feature values have been imputed by one of the two imputation methods."
   ]
  }
 ],
 "metadata": {
  "kernelspec": {
   "display_name": "Python 3",
   "language": "python",
   "name": "python3"
  },
  "language_info": {
   "codemirror_mode": {
    "name": "ipython",
    "version": 3
   },
   "file_extension": ".py",
   "mimetype": "text/x-python",
   "name": "python",
   "nbconvert_exporter": "python",
   "pygments_lexer": "ipython3",
   "version": "3.7.11"
  }
 },
 "nbformat": 4,
 "nbformat_minor": 5
}
